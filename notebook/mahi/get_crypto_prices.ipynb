{
 "cells": [
  {
   "cell_type": "code",
   "execution_count": 1,
   "metadata": {},
   "outputs": [],
   "source": [
    "import sys\n",
    "import os.path\n",
    "sys.path.append(\"../../../data_pipeline/\")"
   ]
  },
  {
   "cell_type": "code",
   "execution_count": 2,
   "metadata": {},
   "outputs": [],
   "source": [
    "# helps with autoreloading code as we write and test\n",
    "%load_ext autoreload\n",
    "%autoreload 2"
   ]
  },
  {
   "cell_type": "code",
   "execution_count": 3,
   "metadata": {},
   "outputs": [],
   "source": [
    "\n",
    "from scrapers.coingecko_scraper import CoinGeckoScraper"
   ]
  },
  {
   "cell_type": "code",
   "execution_count": 4,
   "metadata": {},
   "outputs": [],
   "source": [
    "blockchain_data = CoinGeckoScraper(assets=[\"bitcoin\", \"ethereum\"]).get_data()"
   ]
  },
  {
   "cell_type": "code",
   "execution_count": 6,
   "metadata": {},
   "outputs": [],
   "source": [
    "coins_of_interest = {\n",
    "    'BTC': 'bitcoin',\n",
    "    'ETH': 'ethereum',\n",
    "    'USDT': 'tether',\n",
    "    'USDC': 'usd-coin',\n",
    "    'BNB': 'binancecoin',\n",
    "    'UST': 'terrausd',\n",
    "    'DAI': 'dai',\n",
    "}\n",
    "all_coin_data = CoinGeckoScraper(assets=coins_of_interest.values()).get_data()"
   ]
  },
  {
   "cell_type": "code",
   "execution_count": 17,
   "metadata": {},
   "outputs": [
    {
     "name": "stdout",
     "output_type": "stream",
     "text": [
      "test_results/BTC_1628271242.470528.csv\n",
      "test_results/ETH_1628271242.735934.csv\n",
      "test_results/USDT_1628271243.043597.csv\n",
      "test_results/USDC_1628271243.162157.csv\n",
      "test_results/BNB_1628271243.253702.csv\n",
      "test_results/UST_1628271243.322179.csv\n",
      "test_results/DAI_1628271243.382702.csv\n"
     ]
    }
   ],
   "source": [
    "from cron_utils import write_to_file, upload_to_s3\n",
    "\n",
    "jsonable_dict = {}\n",
    "for coin_ticker in coins_of_interest:\n",
    "    jsonable_dict[coin_ticker] = all_coin_data[coins_of_interest[coin_ticker]]\n",
    "    written_file_path = write_to_file(jsonable_dict[coin_ticker], file_name=coin_ticker, save_dir=\"test_results\")\n",
    "    print(written_file_path)\n",
    "    upload_to_s3(\"testbucketforapidata\",\n",
    "                 written_file_path,\n",
    "                 f\"{coin_ticker}/{os.path.basename(written_file_path)}\")"
   ]
  }
 ],
 "metadata": {
  "kernelspec": {
   "display_name": "Python 3",
   "language": "python",
   "name": "python3"
  },
  "language_info": {
   "codemirror_mode": {
    "name": "ipython",
    "version": 3
   },
   "file_extension": ".py",
   "mimetype": "text/x-python",
   "name": "python",
   "nbconvert_exporter": "python",
   "pygments_lexer": "ipython3",
   "version": "3.7.9"
  }
 },
 "nbformat": 4,
 "nbformat_minor": 4
}
