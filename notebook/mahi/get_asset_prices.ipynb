{
 "cells": [
  {
   "cell_type": "code",
   "execution_count": 1,
   "metadata": {},
   "outputs": [],
   "source": [
    "import sys\n",
    "import os.path\n",
    "sys.path.append(\"../../../data_pipeline/\")"
   ]
  },
  {
   "cell_type": "code",
   "execution_count": 2,
   "metadata": {},
   "outputs": [],
   "source": [
    "# helps with autoreloading code as we write and test\n",
    "%load_ext autoreload\n",
    "%autoreload 2"
   ]
  },
  {
   "cell_type": "code",
   "execution_count": 3,
   "metadata": {},
   "outputs": [],
   "source": [
    "from scrapers.cefi_scraper import CeFiScraper"
   ]
  },
  {
   "cell_type": "code",
   "execution_count": 5,
   "metadata": {},
   "outputs": [],
   "source": [
    "assets_of_interest = [\"SPY\", \n",
    "                      \"QQQ\",\n",
    "                      \"BND\"]\n",
    "\n",
    "scraper = CeFiScraper(assets=assets_of_interest)\n",
    "scraper.collect_data()"
   ]
  },
  {
   "cell_type": "code",
   "execution_count": 6,
   "metadata": {},
   "outputs": [
    {
     "name": "stdout",
     "output_type": "stream",
     "text": [
      "test_results/SPY_1628276724.6265988.csv\n",
      "test_results/QQQ_1628276724.9995232.csv\n",
      "test_results/BND_1628276725.212325.csv\n"
     ]
    }
   ],
   "source": [
    "from cron_utils import write_to_file, upload_to_s3\n",
    "all_asset_data = scraper.data\n",
    "\n",
    "jsonable_dict = {}\n",
    "for asset in assets_of_interest:\n",
    "    written_file_path = write_to_file(all_asset_data[asset], file_name=asset, save_dir=\"test_results\")\n",
    "    print(written_file_path)\n",
    "    upload_to_s3(\"testbucketforapidata\",\n",
    "                 written_file_path,\n",
    "                 f\"{asset}/{os.path.basename(written_file_path)}\")"
   ]
  }
 ],
 "metadata": {
  "kernelspec": {
   "display_name": "Python 3",
   "language": "python",
   "name": "python3"
  },
  "language_info": {
   "codemirror_mode": {
    "name": "ipython",
    "version": 3
   },
   "file_extension": ".py",
   "mimetype": "text/x-python",
   "name": "python",
   "nbconvert_exporter": "python",
   "pygments_lexer": "ipython3",
   "version": "3.7.9"
  }
 },
 "nbformat": 4,
 "nbformat_minor": 4
}
